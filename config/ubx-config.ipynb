{
 "cells": [
  {
   "cell_type": "code",
   "execution_count": 34,
   "id": "bc858485-eb50-49a5-ba1a-91c1977c2865",
   "metadata": {},
   "outputs": [],
   "source": [
    "from serial import Serial\n",
    "from pyubx2 import UBXReader, NMEA_PROTOCOL, UBX_PROTOCOL\n",
    "from pyubx2 import UBXMessage, SET_LAYER_RAM, TXN_NONE\n",
    "from pyubx2 import POLL_LAYER_RAM"
   ]
  },
  {
   "cell_type": "code",
   "execution_count": 35,
   "id": "fda098c6-60ba-4897-884a-0782bdc5d1f4",
   "metadata": {},
   "outputs": [],
   "source": [
    "usb_port = '/dev/ttyACM0'\n",
    "baud_rate = 38400\n",
    "set_layers = SET_LAYER_RAM\n",
    "poll_layers = POLL_LAYER_RAM\n",
    "transaction = TXN_NONE"
   ]
  },
  {
   "cell_type": "code",
   "execution_count": 107,
   "id": "8ca5afe9-b766-48bb-af44-0623cb4d5a83",
   "metadata": {},
   "outputs": [],
   "source": [
    "def ubx_set(cfgData, layers=set_layers, transaction=transaction, verbose=False):\n",
    "    msg = UBXMessage.config_set(layers, transaction, cfgData)\n",
    "    if verbose:\n",
    "        print(msg)\n",
    "    else:\n",
    "        with Serial(usb_port, baud_rate, timeout=3) as stream:\n",
    "            stream.write(msg.serialize())\n",
    "\n",
    "def ubx_poll(keys, layers=poll_layers,position=0, verbose=False):\n",
    "    msg = UBXMessage.config_poll(layers, position, keys)\n",
    "    if verbose:\n",
    "        print(msg)\n",
    "    else:\n",
    "        with Serial(usb_port, baud_rate, timeout=3) as stream:\n",
    "            stream.write(msg.serialize())\n",
    "            ubr = UBXReader(stream, protfilter=NMEA_PROTOCOL | UBX_PROTOCOL)\n",
    "            raw_data, parsed_data = ubr.read()\n",
    "            return parsed_data\n",
    "\n",
    "def ubx_reader(id=None, usb_port=usb_port, baud_rate=baud_rate, verbose=False):\n",
    "    with Serial(usb_port, baud_rate, timeout=3) as stream:\n",
    "        while True:\n",
    "            ubr = UBXReader(stream, protfilter=NMEA_PROTOCOL | UBX_PROTOCOL)\n",
    "            raw_data, parsed_data = ubr.read()\n",
    "            if parsed_data is not None:\n",
    "                if (id is None or parsed_data.identity == id) and verbose:\n",
    "                    print(parsed_data)\n",
    "                if id is None or parsed_data.identity == id:\n",
    "                    return parsed_data\n",
    "                else:\n",
    "                    continue"
   ]
  },
  {
   "cell_type": "code",
   "execution_count": 78,
   "id": "70da0423-acba-4d32-a297-46516a9240c6",
   "metadata": {},
   "outputs": [
    {
     "name": "stdout",
     "output_type": "stream",
     "text": [
      "<UBX(CFG-VALSET, version=0, ram=1, bbr=0, flash=0, action=0, reserved0=0, CFG_USBINPROT_NMEA=1, CFG_USBINPROT_UBX=1)>\n"
     ]
    }
   ],
   "source": [
    "# USB input: NMEA, UBX \n",
    "keys = [(\"CFG_USBINPROT_NMEA\", 1), (\"CFG_USBINPROT_UBX\", 1)]\n",
    "ubx_set(keys, verbose=True)\n",
    "# USB output: UBX\n",
    "keys = [(\"CFG_USBOUTPROT_NMEA\", 0), (\"CFG_USBOUTPROT_UBX\", 1)]\n",
    "ubx_set(keys, verbose=False)\n",
    "\n"
   ]
  },
  {
   "cell_type": "code",
   "execution_count": 44,
   "id": "7660d3f1-6daf-4ad1-89fe-30ebce7204a4",
   "metadata": {},
   "outputs": [
    {
     "name": "stdout",
     "output_type": "stream",
     "text": [
      "<UBX(CFG-VALGET, version=0, layer=0, position=0, keys_01=276299778)>\n"
     ]
    }
   ],
   "source": [
    "keys=[\"CFG_USBOUTPROT_NMEA\"]\n",
    "ubx_poll(keys, verbose=True)"
   ]
  },
  {
   "cell_type": "code",
   "execution_count": 47,
   "id": "fdb33034-b701-42fc-a8a2-80893bb0628c",
   "metadata": {},
   "outputs": [
    {
     "name": "stdout",
     "output_type": "stream",
     "text": [
      "<UBX(CFG-VALGET, version=1, layer=0, position=0, CFG_USBOUTPROT_NMEA=0)>\n"
     ]
    }
   ],
   "source": [
    "keys=[\"CFG_USBOUTPROT_NMEA\"]\n",
    "ubx_poll(keys)"
   ]
  },
  {
   "cell_type": "code",
   "execution_count": 70,
   "id": "3b8842d4-0e90-463a-98df-249784217e99",
   "metadata": {},
   "outputs": [],
   "source": [
    "# set the GPS receiver work in survey-in mode\n",
    "# survey-in minimum duration is 1200s\n",
    "# survey-in position accuracy limit 0.1m\n",
    "keys = [(\"CFG_TMODE_MODE\", 1), (\"CFG_TMODE_SVIN_MIN_DUR\", 1200), (\"CFG_TMODE_SVIN_ACC_LIMIT\", 1000)]\n",
    "ubx_set(keys, verbose=False)"
   ]
  },
  {
   "cell_type": "code",
   "execution_count": 92,
   "id": "df86b8b7-eaee-4dfd-84cb-94b1774db495",
   "metadata": {},
   "outputs": [],
   "source": [
    "# enable ubx-pvt message out from usb\n",
    "keys = [(\"CFG_MSGOUT_UBX_NAV_PVT_USB\",1), (\"CFG_MSGOUT_UBX_TIM_SVIN_USB\", 1)]\n",
    "ubx_set(keys)"
   ]
  },
  {
   "cell_type": "code",
   "execution_count": 88,
   "id": "37e60669-706b-4227-8e15-7f87ee2f43e1",
   "metadata": {},
   "outputs": [
    {
     "name": "stdout",
     "output_type": "stream",
     "text": [
      "<UBX(NAV-PVT, iTOW=02:53:47, year=2024, month=6, day=26, hour=2, min=53, second=47, validDate=1, validTime=1, fullyResolved=1, validMag=0, tAcc=42, nano=-159915, fixType=3, gnssFixOk=1, diffSoln=0, psmState=0, headVehValid=0, carrSoln=0, confirmedAvai=1, confirmedDate=1, confirmedTime=1, numSV=12, lon=-122.257403, lat=37.8727853, height=88528, hMSL=117962, hAcc=7321, vAcc=8348, velN=4, velE=-19, velD=-41, gSpeed=19, headMot=253.38518, sAcc=36, headAcc=30.44452, pDOP=3.32, invalidLlh=0, lastCorrectionAge=0, reserved0=659535132, headVeh=0.0, magDec=0.0, magAcc=0.0)>\n"
     ]
    }
   ],
   "source": [
    "msg = ubx_reader(verbose=True)\n",
    "#print(msg.gnssFixOk)"
   ]
  },
  {
   "cell_type": "code",
   "execution_count": 86,
   "id": "5b4ca4e4-c9e3-4af4-b642-c8dfbc6141d6",
   "metadata": {},
   "outputs": [
    {
     "name": "stdout",
     "output_type": "stream",
     "text": [
      "<UBX(TIM-SVIN, dur=5320, meanX=-269058963, meanY=-426311744, meanZ=389436953, meanV=1554856064, obs=5321, valid=0, active=1, reserved1=0)>\n"
     ]
    }
   ],
   "source": [
    "msg = ubx_reader(verbose=True)"
   ]
  },
  {
   "cell_type": "code",
   "execution_count": 112,
   "id": "8c9c43f8-8255-4084-98ca-614302a2e08e",
   "metadata": {},
   "outputs": [
    {
     "name": "stdout",
     "output_type": "stream",
     "text": [
      "<UBX(TIM-SVIN, dur=6303, meanX=-269058991, meanY=-426311767, meanZ=389436894, meanV=1556117376, obs=6304, valid=0, active=1, reserved1=0)>\n"
     ]
    },
    {
     "data": {
      "text/plain": [
       "UBXMessage(b'\\r', b'\\x04', 0, payload=b'\\x9f\\x18\\x00\\x00Q|\\xf6\\xef\\xa9\\xff\\x96\\xe6\\xdeU6\\x17\\x80w\\xc0\\\\\\xa0\\x18\\x00\\x00\\x00\\x01\\x00\\x00')"
      ]
     },
     "execution_count": 112,
     "metadata": {},
     "output_type": "execute_result"
    }
   ],
   "source": [
    "ubx_reader(id='TIM-SVIN' ,verbose=True)"
   ]
  },
  {
   "cell_type": "code",
   "execution_count": 113,
   "id": "b631410f-afd3-422f-888a-f5dfe7ef334f",
   "metadata": {},
   "outputs": [],
   "source": [
    "# enable ubx messages\n",
    "keys = [(\"CFG_MSGOUT_UBX_NAV_PVT_USB\", 1), \n",
    "        (\"CFG_MSGOUT_UBX_NAV_SAT_USB\", 1), \n",
    "        (\"CFG_MSGOUT_UBX_NAV_SIG_USB\", 1), \n",
    "        (\"CFG_MSGOUT_UBX_NAV_STATUS_USB\", 1),\n",
    "        (\"CFG_MSGOUT_UBX_RXM_RTCM_USB\", 1)]\n",
    "ubx_set(keys)"
   ]
  },
  {
   "cell_type": "code",
   "execution_count": 117,
   "id": "c5c7ce11-5ca2-4af3-b34b-435bcda0711c",
   "metadata": {},
   "outputs": [
    {
     "name": "stdout",
     "output_type": "stream",
     "text": [
      "<UBX(NAV-PVT, iTOW=03:31:51, year=2024, month=6, day=26, hour=3, min=31, second=51, validDate=1, validTime=1, fullyResolved=1, validMag=0, tAcc=46, nano=-348654, fixType=3, gnssFixOk=1, diffSoln=0, psmState=0, headVehValid=0, carrSoln=0, confirmedAvai=1, confirmedDate=1, confirmedTime=1, numSV=13, lon=-122.2573732, lat=37.8729138, height=88535, hMSL=117968, hAcc=9092, vAcc=8817, velN=16, velE=-3, velD=-18, gSpeed=17, headMot=253.38518, sAcc=23, headAcc=30.44452, pDOP=2.17, invalidLlh=0, lastCorrectionAge=0, reserved0=659535132, headVeh=0.0, magDec=0.0, magAcc=0.0)>\n"
     ]
    },
    {
     "data": {
      "text/plain": [
       "UBXMessage(b'\\x01', b'\\x07', 0, payload=b'\\xa8N5\\x10\\xe8\\x07\\x06\\x1a\\x03\\x1f37.\\x00\\x00\\x00\\x12\\xae\\xfa\\xff\\x03\\x01\\xea\\r\\\\\\x01!\\xb7\\xb2\\xf2\\x92\\x16\\xd7Y\\x01\\x00\\xd0\\xcc\\x01\\x00\\x84#\\x00\\x00q\"\\x00\\x00\\x10\\x00\\x00\\x00\\xfd\\xff\\xff\\xff\\xee\\xff\\xff\\xff\\x11\\x00\\x00\\x00\\x96\\xa2\\x82\\x01\\x17\\x00\\x00\\x00dt.\\x00\\xd9\\x00\\x00\\x00\\x1c\\xb5O\\'\\x00\\x00\\x00\\x00\\x00\\x00\\x00\\x00')"
      ]
     },
     "execution_count": 117,
     "metadata": {},
     "output_type": "execute_result"
    }
   ],
   "source": [
    "ubx_reader(id='NAV-PVT' ,verbose=True)"
   ]
  },
  {
   "cell_type": "code",
   "execution_count": null,
   "id": "9345f032-c810-4f78-bfd0-9f14e60c88f4",
   "metadata": {},
   "outputs": [],
   "source": []
  }
 ],
 "metadata": {
  "kernelspec": {
   "display_name": "Python 3 (ipykernel)",
   "language": "python",
   "name": "python3"
  },
  "language_info": {
   "codemirror_mode": {
    "name": "ipython",
    "version": 3
   },
   "file_extension": ".py",
   "mimetype": "text/x-python",
   "name": "python",
   "nbconvert_exporter": "python",
   "pygments_lexer": "ipython3",
   "version": "3.10.14"
  }
 },
 "nbformat": 4,
 "nbformat_minor": 5
}
