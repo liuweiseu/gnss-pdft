{
 "cells": [
  {
   "cell_type": "code",
   "execution_count": 4,
   "id": "bc858485-eb50-49a5-ba1a-91c1977c2865",
   "metadata": {},
   "outputs": [],
   "source": [
    "from serial import Serial\n",
    "from pyubx2 import UBXReader, NMEA_PROTOCOL, UBX_PROTOCOL\n",
    "from pyubx2 import UBXMessage, SET_LAYER_RAM, TXN_NONE, POLL, GET\n",
    "from pyubx2 import POLL_LAYER_RAM"
   ]
  },
  {
   "cell_type": "code",
   "execution_count": 5,
   "id": "fda098c6-60ba-4897-884a-0782bdc5d1f4",
   "metadata": {},
   "outputs": [],
   "source": [
    "usb_port = '/dev/ttyACM0'\n",
    "baud_rate = 38400\n",
    "set_layers = SET_LAYER_RAM\n",
    "poll_layers = POLL_LAYER_RAM\n",
    "transaction = TXN_NONE"
   ]
  },
  {
   "cell_type": "code",
   "execution_count": 6,
   "id": "8ca5afe9-b766-48bb-af44-0623cb4d5a83",
   "metadata": {},
   "outputs": [],
   "source": [
    "def msg_send(msg):\n",
    "    with Serial(usb_port, baud_rate, timeout=3) as stream:\n",
    "        stream.write(msg)\n",
    "        \n",
    "def ubx_set(cfgData, layers=set_layers, transaction=transaction, verbose=False):\n",
    "    msg = UBXMessage.config_set(layers, transaction, cfgData)\n",
    "    if verbose:\n",
    "        print(msg)\n",
    "    else:\n",
    "        msg_send(msg.serialize())\n",
    "\n",
    "def ubx_poll(keys, layers=poll_layers,position=0, verbose=False):\n",
    "    msg = UBXMessage.config_poll(layers, position, keys)\n",
    "    if verbose:\n",
    "        print(msg)\n",
    "    else:\n",
    "        with Serial(usb_port, baud_rate, timeout=3) as stream:\n",
    "            stream.write(msg.serialize())\n",
    "            ubr = UBXReader(stream, protfilter=NMEA_PROTOCOL | UBX_PROTOCOL)\n",
    "            raw_data, parsed_data = ubr.read()\n",
    "            return parsed_data\n",
    "\n",
    "def ubx_reader(id=None, usb_port=usb_port, baud_rate=baud_rate, verbose=False, timeout=10):\n",
    "    with Serial(usb_port, baud_rate, timeout=3) as stream:\n",
    "        t = 0\n",
    "        while True:\n",
    "            t = t + 1\n",
    "            if t > timeout:\n",
    "                return None\n",
    "            ubr = UBXReader(stream, protfilter=NMEA_PROTOCOL | UBX_PROTOCOL)\n",
    "            raw_data, parsed_data = ubr.read()\n",
    "            if parsed_data is not None:\n",
    "                if (id is None or parsed_data.identity == id) and verbose:\n",
    "                    print(parsed_data)\n",
    "                if id is None or parsed_data.identity == id:\n",
    "                    return parsed_data\n",
    "                else:\n",
    "                    continue\n"
   ]
  },
  {
   "cell_type": "code",
   "execution_count": 14,
   "id": "3942b2f7-21d0-4932-822a-05df43bfdbe8",
   "metadata": {},
   "outputs": [],
   "source": [
    "FixTypeList = ['no-fix', 'dead-reckoning-only', '2D-fix', '3D-fix', 'GPS + dead-reckoning', 'Time-only-fix']\n",
    "SvinVldStatusList = ['not valid', 'valid']\n",
    "SvinActiveStatusList = ['stop', 'in-progress']\n",
    "\n",
    "def poll_nav_clk():\n",
    "    msg = UBXMessage(b'\\x01', b'\\x22', POLL)\n",
    "    msg_send(msg.serialize())\n",
    "    msg = ubx_reader(id='NAV-CLOCK', verbose=True)\n",
    "    return msg\n",
    "\n",
    "def get_svin_status():\n",
    "    msg = ubx_reader(id='TIM-SVIN')\n",
    "    return msg.dur, SvinVldStatusList[msg.valid], SvinActiveStatusList[msg.active]\n",
    "\n",
    "def get_fixtype(): \n",
    "    msg = ubx_reader(id='NAV-PVT')\n",
    "    return FixTypeList[msg.fixType]\n",
    "\n",
    "def set_coordinate(lon, lat, alt):\n",
    "    \n",
    "    cfgData = [('CFG_TMODE_LON', int(lon*10**7)), ('CFG_TMODE_LON_HP', int(lon*10**9) - int(lon*10**7)*100), \n",
    "            ('CFG_TMODE_LAT', int(lat*10**7)), ('CFG_TMODE_LAT_HP', int(lat*10**9) - int(lat*10**7)*100),\n",
    "            ('CFG_TMODE_HEIGHT', int(alt*100)), ('CFG_TMODE_HEIGHT_HP', int(alt*10**4) - int(alt*100)*100)]\n",
    "    ubx_set(cfgData)\n",
    "    \n",
    "def set_acc(acc):\n",
    "    cfgData = ['CFG-TMODE-FIXED_POS_ACC', acc*10**4]\n",
    "    ubx_set(cfgData)\n",
    "\n",
    "def set_rtcm():\n",
    "    cfgData = [('CFG_MSGOUT_RTCM_3X_TYPE1005_USB', 1),\n",
    "               ('CFG_MSGOUT_RTCM_3X_TYPE1077_USB', 1),\n",
    "               ('CFG_MSGOUT_RTCM_3X_TYPE1087_USB', 1),\n",
    "               ('CFG_MSGOUT_RTCM_3X_TYPE1097_USB', 1),\n",
    "               ('CFG_MSGOUT_RTCM_3X_TYPE1127_USB', 1),\n",
    "               ('CFG_MSGOUT_RTCM_3X_TYPE1230_USB', 1),\n",
    "               ('CFG_MSGOUT_RTCM_3X_TYPE4072_1_USB', 1)]\n",
    "    ubx_set(cfgData)\n",
    "\n",
    "def get_coordindate():\n",
    "    msg = ubx_reader(id='NAV-PVT')\n",
    "    lon = msg.lon\n",
    "    lat = msg.lat\n",
    "    alt = msg.height/1000\n",
    "    return lon, lat, alt\n",
    "\n",
    "def get_acc():\n",
    "    msg = ubx_reader(id='NAV-PVT')\n",
    "    hacc = msg.hAcc/1000\n",
    "    vacc = msg.vAcc/1000\n",
    "    return hacc, vacc\n",
    "\n",
    "def set_gnss():\n",
    "    cfgData = [ ('CFG_SIGNAL_GPS_ENA', 1), \n",
    "                ('CFG_SIGNAL_SBAS_ENA', 0),\n",
    "                ('CFG_SIGNAL_GAL_ENA', 1),\n",
    "                ('CFG_SIGNAL_BDS_ENA', 1), \n",
    "                ('CFG_SIGNAL_QZSS_ENA', 0), \n",
    "                ('CFG_SIGNAL_GLO_ENA', 0),\n",
    "                ('CFG_SIGNAL_NAVIC_ENA', 0)]\n",
    "    ubx_set(cfgData)\n",
    "\n",
    "def get_gnss():\n",
    "    gps_keys = ['CFG_SIGNAL_GPS_ENA',\n",
    "                'CFG_SIGNAL_GPS_L1CA_ENA', \n",
    "                'CFG_SIGNAL_GPS_L2C_ENA',\n",
    "                'CFG_SIGNAL_GPS_L5_ENA']\n",
    "    msg = ubx_poll(gps_keys)\n",
    "    print('GPS Config:\\r')\n",
    "    for key in gps_keys:\n",
    "        print('  - %s: %d'%(key, getattr(msg,key)))\n",
    "    \n",
    "    sbas_keys = ['CFG_SIGNAL_SBAS_ENA',\n",
    "                 'CFG_SIGNAL_SBAS_L1CA_ENA']\n",
    "    msg = ubx_poll(sbas_keys)\n",
    "    print('SBAS Config:\\r')\n",
    "    for key in sbas_keys:\n",
    "        print('  - %s: %d'%(key, getattr(msg,key)))\n",
    "\n",
    "    gal_keys = [ \"CFG_SIGNAL_GAL_ENA\", \n",
    "                 \"CFG_SIGNAL_GAL_E1_ENA\",\n",
    "                 \"CFG_SIGNAL_GAL_E5A_ENA\",\n",
    "                 \"CFG_SIGNAL_GAL_E5B_ENA\"]\n",
    "    msg = ubx_poll(gal_keys)\n",
    "    print('GALILEO Config:\\r')\n",
    "    for key in gal_keys:\n",
    "        print('  - %s: %d'%(key, getattr(msg,key)))\n",
    "\n",
    "    bd_keys = [ \"CFG_SIGNAL_BDS_ENA\",\n",
    "                \"CFG_SIGNAL_BDS_B1_ENA\",\n",
    "                \"CFG_SIGNAL_BDS_B1C_ENA\",\n",
    "                \"CFG_SIGNAL_BDS_B2_ENA\",\n",
    "                \"CFG_SIGNAL_BDS_B2A_ENA\"\n",
    "                ]\n",
    "    msg = ubx_poll(bd_keys)\n",
    "    print('Beidou Config:\\r')\n",
    "    for key in bd_keys:\n",
    "        print('  - %s: %d'%(key, getattr(msg,key)))\n",
    "    \n",
    "    glo_keys = ['CFG_SIGNAL_GLO_ENA',\n",
    "                'CFG_SIGNAL_GLO_L1_ENA',\n",
    "                'CFG_SIGNAL_GLO_L2_ENA']\n",
    "    msg = ubx_poll(glo_keys)\n",
    "    print('GLONASS Config:\\r')\n",
    "    for key in glo_keys:\n",
    "        print('  - %s: %d'%(key, getattr(msg,key)))\n",
    "    '''\n",
    "    imes_keys = [ \"CFG_SIGNAL_IMES_ENA\", \n",
    "                  \"CFG_SIGNAL_IMES_L1_ENA\"]\n",
    "    msg = ubx_poll(imes_keys)\n",
    "    print('IMES Config:\\r')\n",
    "    for key in imes_keys:\n",
    "        print('  - %s: %d'%(key, getattr(msg,key)))\n",
    "    '''\n",
    "    \n",
    "    navic_keys = [ \"CFG_SIGNAL_NAVIC_ENA\",\n",
    "                   \"CFG_SIGNAL_NAVIC_L5_ENA\"]\n",
    "    msg = ubx_poll(navic_keys)\n",
    "    print('NAVIC Config:\\r')\n",
    "    for key in navic_keys:\n",
    "        print('  - %s: %d'%(key, getattr(msg,key)))\n",
    "\n",
    "def master_io_msg():\n",
    "    cfgData = [('CFG_USBINPROT_UBX',  1),\n",
    "               ('CFG_USBINPROT_NMEA', 1),\n",
    "               ('CFG_USBOUTPROT_UBX', 0),\n",
    "               ('CFG_USBOUTPROT_NMEA',0),\n",
    "               ('CFG_USBOUTPROT_RTCM',1)]\n",
    "    ubx_set(cfgData)\n",
    "\n",
    "def slave_io_msg():\n",
    "    cfgData = [('CFG_USBINPROT_UBX',  1),\n",
    "               ('CFG_USBINPROT_NMEA', 1),\n",
    "               ('CFG_USBINPROT_RTCM', 1),\n",
    "               ('CFG_USBOUTPROT_UBX', 1),\n",
    "               ('CFG_USBOUTPROT_NMEA',1)]\n",
    "    ubx_set(cfgData)\n",
    "\n",
    "def init_gnss():\n",
    "    set_gnss()\n",
    "    # USB input: NMEA, UBX \n",
    "    keys = [(\"CFG_USBINPROT_NMEA\", 1), (\"CFG_USBINPROT_UBX\", 1)]\n",
    "    ubx_set(keys, verbose=True)\n",
    "    # USB output: UBX\n",
    "    keys = [(\"CFG_USBOUTPROT_NMEA\", 0), (\"CFG_USBOUTPROT_UBX\", 1)]\n",
    "    ubx_set(keys, verbose=False)\n",
    "    # enable ubx messages\n",
    "    keys = [(\"CFG_MSGOUT_UBX_NAV_PVT_USB\", 1), \n",
    "        (\"CFG_MSGOUT_UBX_NAV_SAT_USB\", 1), \n",
    "        (\"CFG_MSGOUT_UBX_NAV_SIG_USB\", 1), \n",
    "        (\"CFG_MSGOUT_UBX_NAV_STATUS_USB\", 1),\n",
    "        (\"CFG_MSGOUT_UBX_RXM_RTCM_USB\", 1)]\n",
    "    ubx_set(keys)\n",
    "    # set the GPS receiver work in survey-in mode\n",
    "    # survey-in minimum duration is 1200s\n",
    "    # survey-in position accuracy limit 0.5m\n",
    "    keys = [(\"CFG_TMODE_MODE\", 1), (\"CFG_TMODE_SVIN_MIN_DUR\", 1200), (\"CFG_TMODE_SVIN_ACC_LIMIT\", 5000)]\n",
    "    ubx_set(keys, verbose=False)\n",
    "    # enable ubx-pvt message out from usb\n",
    "    keys = [(\"CFG_MSGOUT_UBX_NAV_PVT_USB\",1), (\"CFG_MSGOUT_UBX_TIM_SVIN_USB\", 1)]\n",
    "    ubx_set(keys)\n",
    "\n",
    "def check_gnss():\n",
    "    msg = get_fixtype()\n",
    "    print(msg)\n",
    "    msg = get_svin_status()\n",
    "    print(msg)\n",
    "    msg = get_coordindate()\n",
    "    print(msg)\n",
    "    msg = get_acc()\n",
    "    print(msg)\n",
    "    get_gnss()"
   ]
  },
  {
   "cell_type": "code",
   "execution_count": 142,
   "id": "70da0423-acba-4d32-a297-46516a9240c6",
   "metadata": {},
   "outputs": [
    {
     "name": "stdout",
     "output_type": "stream",
     "text": [
      "<UBX(CFG-VALSET, version=0, ram=1, bbr=0, flash=0, action=0, reserved0=0, CFG_USBINPROT_NMEA=1, CFG_USBINPROT_UBX=1)>\n"
     ]
    }
   ],
   "source": [
    "# USB input: NMEA, UBX \n",
    "keys = [(\"CFG_USBINPROT_NMEA\", 1), (\"CFG_USBINPROT_UBX\", 1)]\n",
    "ubx_set(keys, verbose=True)\n",
    "# USB output: UBX\n",
    "keys = [(\"CFG_USBOUTPROT_NMEA\", 0), (\"CFG_USBOUTPROT_UBX\", 1)]\n",
    "ubx_set(keys, verbose=False)\n",
    "\n"
   ]
  },
  {
   "cell_type": "code",
   "execution_count": 6,
   "id": "7660d3f1-6daf-4ad1-89fe-30ebce7204a4",
   "metadata": {},
   "outputs": [
    {
     "name": "stdout",
     "output_type": "stream",
     "text": [
      "<UBX(CFG-VALGET, version=0, layer=0, position=0, keys_01=276299778)>\n"
     ]
    }
   ],
   "source": [
    "keys=[\"CFG_USBOUTPROT_NMEA\"]\n",
    "ubx_poll(keys, verbose=True)"
   ]
  },
  {
   "cell_type": "code",
   "execution_count": 7,
   "id": "fdb33034-b701-42fc-a8a2-80893bb0628c",
   "metadata": {},
   "outputs": [
    {
     "data": {
      "text/plain": [
       "UBXMessage(b'\\x06', b'\\x8b', 0, payload=b'\\x01\\x00\\x00\\x00\\x02\\x00x\\x10\\x00')"
      ]
     },
     "execution_count": 7,
     "metadata": {},
     "output_type": "execute_result"
    }
   ],
   "source": [
    "keys=[\"CFG_USBOUTPROT_NMEA\"]\n",
    "ubx_poll(keys)"
   ]
  },
  {
   "cell_type": "code",
   "execution_count": 15,
   "id": "ff472b7e-33a1-4db5-951b-8da50f2a1e03",
   "metadata": {},
   "outputs": [
    {
     "name": "stdout",
     "output_type": "stream",
     "text": [
      "<UBX(CFG-VALSET, version=0, ram=1, bbr=0, flash=0, action=0, reserved0=0, CFG_USBINPROT_NMEA=1, CFG_USBINPROT_UBX=1)>\n"
     ]
    }
   ],
   "source": [
    "init_gnss()"
   ]
  },
  {
   "cell_type": "code",
   "execution_count": 20,
   "id": "e9c3914d-af49-4b85-8969-26b326650168",
   "metadata": {},
   "outputs": [
    {
     "name": "stdout",
     "output_type": "stream",
     "text": [
      "3D-fix\n",
      "(865, 'not valid', 'in-progress')\n",
      "(-122.2570486, 37.8728505, 92.862)\n",
      "(0.594, 0.93)\n",
      "GPS Config:\n",
      "  - CFG_SIGNAL_GPS_ENA: 1\n",
      "  - CFG_SIGNAL_GPS_L1CA_ENA: 1\n",
      "  - CFG_SIGNAL_GPS_L2C_ENA: 1\n",
      "  - CFG_SIGNAL_GPS_L5_ENA: 0\n",
      "SBAS Config:\n",
      "  - CFG_SIGNAL_SBAS_ENA: 0\n",
      "  - CFG_SIGNAL_SBAS_L1CA_ENA: 0\n",
      "GALILEO Config:\n",
      "  - CFG_SIGNAL_GAL_ENA: 1\n",
      "  - CFG_SIGNAL_GAL_E1_ENA: 1\n",
      "  - CFG_SIGNAL_GAL_E5A_ENA: 0\n",
      "  - CFG_SIGNAL_GAL_E5B_ENA: 1\n",
      "Beidou Config:\n",
      "  - CFG_SIGNAL_BDS_ENA: 1\n",
      "  - CFG_SIGNAL_BDS_B1_ENA: 1\n",
      "  - CFG_SIGNAL_BDS_B1C_ENA: 0\n",
      "  - CFG_SIGNAL_BDS_B2_ENA: 1\n",
      "  - CFG_SIGNAL_BDS_B2A_ENA: 0\n",
      "GLONASS Config:\n",
      "  - CFG_SIGNAL_GLO_ENA: 0\n",
      "  - CFG_SIGNAL_GLO_L1_ENA: 1\n",
      "  - CFG_SIGNAL_GLO_L2_ENA: 1\n",
      "NAVIC Config:\n",
      "  - CFG_SIGNAL_NAVIC_ENA: 0\n",
      "  - CFG_SIGNAL_NAVIC_L5_ENA: 0\n"
     ]
    }
   ],
   "source": [
    "check_gnss()"
   ]
  },
  {
   "cell_type": "code",
   "execution_count": null,
   "id": "2cba6497-670d-42d1-b101-799834c37310",
   "metadata": {},
   "outputs": [],
   "source": []
  }
 ],
 "metadata": {
  "kernelspec": {
   "display_name": "Python 3 (ipykernel)",
   "language": "python",
   "name": "python3"
  },
  "language_info": {
   "codemirror_mode": {
    "name": "ipython",
    "version": 3
   },
   "file_extension": ".py",
   "mimetype": "text/x-python",
   "name": "python",
   "nbconvert_exporter": "python",
   "pygments_lexer": "ipython3",
   "version": "3.10.14"
  }
 },
 "nbformat": 4,
 "nbformat_minor": 5
}
