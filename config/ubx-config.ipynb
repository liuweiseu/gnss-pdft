{
 "cells": [
  {
   "cell_type": "code",
   "execution_count": 34,
   "id": "bc858485-eb50-49a5-ba1a-91c1977c2865",
   "metadata": {},
   "outputs": [],
   "source": [
    "from serial import Serial\n",
    "from pyubx2 import UBXReader, NMEA_PROTOCOL, UBX_PROTOCOL\n",
    "from pyubx2 import UBXMessage, SET_LAYER_RAM, TXN_NONE\n",
    "from pyubx2 import POLL_LAYER_RAM"
   ]
  },
  {
   "cell_type": "code",
   "execution_count": 35,
   "id": "fda098c6-60ba-4897-884a-0782bdc5d1f4",
   "metadata": {},
   "outputs": [],
   "source": [
    "usb_port = '/dev/ttyACM0'\n",
    "baud_rate = 38400\n",
    "set_layers = SET_LAYER_RAM\n",
    "poll_layers = POLL_LAYER_RAM\n",
    "transaction = TXN_NONE"
   ]
  },
  {
   "cell_type": "code",
   "execution_count": 64,
   "id": "8ca5afe9-b766-48bb-af44-0623cb4d5a83",
   "metadata": {},
   "outputs": [],
   "source": [
    "def ubx_set(cfgData, layers=set_layers, transaction=transaction, verbose=False):\n",
    "    msg = UBXMessage.config_set(layers, transaction, cfgData)\n",
    "    if verbose:\n",
    "        print(msg)\n",
    "    else:\n",
    "        with Serial(usb_port, baud_rate, timeout=3) as stream:\n",
    "            stream.write(msg.serialize())\n",
    "\n",
    "def ubx_poll(keys, layers=poll_layers,position=0, verbose=False):\n",
    "    msg = UBXMessage.config_poll(layers, position, keys)\n",
    "    if verbose:\n",
    "        print(msg)\n",
    "    else:\n",
    "        with Serial(usb_port, baud_rate, timeout=3) as stream:\n",
    "            stream.write(msg.serialize())\n",
    "            ubr = UBXReader(stream, protfilter=NMEA_PROTOCOL | UBX_PROTOCOL)\n",
    "            raw_data, parsed_data = ubr.read()\n",
    "            return parsed_data\n",
    "\n",
    "def ubx_reader(usb_port=usb_port, baud_rate=baud_rate, verbose=False):\n",
    "    with Serial(usb_port, baud_rate, timeout=3) as stream:\n",
    "        ubr = UBXReader(stream, protfilter=NMEA_PROTOCOL | UBX_PROTOCOL)\n",
    "        raw_data, parsed_data = ubr.read()\n",
    "        if parsed_data is not None and verbose:\n",
    "            print(parsed_data)\n",
    "        return parsed_data"
   ]
  },
  {
   "cell_type": "code",
   "execution_count": 33,
   "id": "bb81fc6a-ca39-45a8-8874-52c6c5d5c3e5",
   "metadata": {},
   "outputs": [
    {
     "name": "stdout",
     "output_type": "stream",
     "text": [
      "<NMEA(GNRMC, time=00:08:10, status=A, lat=37.8729406667, NS=N, lon=-122.2572496667, EW=W, spd=0.112, cog=, date=2024-06-26, mv=, mvEW=, posMode=A, navStatus=V)>\n"
     ]
    }
   ],
   "source": [
    "\n"
   ]
  },
  {
   "cell_type": "code",
   "execution_count": 48,
   "id": "70da0423-acba-4d32-a297-46516a9240c6",
   "metadata": {},
   "outputs": [
    {
     "name": "stdout",
     "output_type": "stream",
     "text": [
      "<UBX(CFG-VALSET, version=0, ram=1, bbr=0, flash=0, action=0, reserved0=0, CFG_USBINPROT_NMEA=1, CFG_USBINPROT_UBX=1)>\n"
     ]
    }
   ],
   "source": [
    "# USB input: NMEA, UBX \n",
    "keys = [(\"CFG_USBINPROT_NMEA\", 1), (\"CFG_USBINPROT_UBX\", 1)]\n",
    "ubx_set(keys, verbose=True)\n",
    "# USB output: UBX\n",
    "keys = [(\"CFG_USBOUTPROT_NMEA\", 1), (\"CFG_USBOUTPROT_UBX\", 1)]\n",
    "ubx_set(keys, verbose=False)\n",
    "\n"
   ]
  },
  {
   "cell_type": "code",
   "execution_count": 44,
   "id": "7660d3f1-6daf-4ad1-89fe-30ebce7204a4",
   "metadata": {},
   "outputs": [
    {
     "name": "stdout",
     "output_type": "stream",
     "text": [
      "<UBX(CFG-VALGET, version=0, layer=0, position=0, keys_01=276299778)>\n"
     ]
    }
   ],
   "source": [
    "keys=[\"CFG_USBOUTPROT_NMEA\"]\n",
    "ubx_poll(keys, verbose=True)"
   ]
  },
  {
   "cell_type": "code",
   "execution_count": 47,
   "id": "fdb33034-b701-42fc-a8a2-80893bb0628c",
   "metadata": {},
   "outputs": [
    {
     "name": "stdout",
     "output_type": "stream",
     "text": [
      "<UBX(CFG-VALGET, version=1, layer=0, position=0, CFG_USBOUTPROT_NMEA=0)>\n"
     ]
    }
   ],
   "source": [
    "keys=[\"CFG_USBOUTPROT_NMEA\"]\n",
    "ubx_poll(keys)"
   ]
  },
  {
   "cell_type": "code",
   "execution_count": 52,
   "id": "3b8842d4-0e90-463a-98df-249784217e99",
   "metadata": {},
   "outputs": [],
   "source": [
    "# set the GPS receiver work in survey-in mode\n",
    "# survey-in minimum duration is 1200s\n",
    "# survey-in position accuracy limit 0.1m\n",
    "keys = [(\"CFG_TMODE_MODE\", 1), (\"CFG_TMODE_SVIN_MIN_DUR\", 1200), (\"CFG_TMODE_SVIN_ACC_LIMIT\", 1000)]\n",
    "ubx_set(keys, verbose=False)"
   ]
  },
  {
   "cell_type": "code",
   "execution_count": 57,
   "id": "df86b8b7-eaee-4dfd-84cb-94b1774db495",
   "metadata": {},
   "outputs": [],
   "source": [
    "# enable ubx-pvt message out from usb\n",
    "keys = [(\"CFG_MSGOUT_UBX_NAV_PVT_USB\",1)]\n",
    "ubx_set(keys)"
   ]
  },
  {
   "cell_type": "code",
   "execution_count": 65,
   "id": "37e60669-706b-4227-8e15-7f87ee2f43e1",
   "metadata": {},
   "outputs": [
    {
     "name": "stdout",
     "output_type": "stream",
     "text": [
      "<UBX(NAV-PVT, iTOW=00:42:44, year=2024, month=6, day=26, hour=0, min=42, second=44, validDate=1, validTime=1, fullyResolved=1, validMag=0, tAcc=44, nano=493561, fixType=3, gnssFixOk=1, diffSoln=0, psmState=0, headVehValid=0, carrSoln=0, confirmedAvai=1, confirmedDate=1, confirmedTime=1, numSV=10, lon=-122.2575259, lat=37.8727361, height=111236, hMSL=140670, hAcc=8002, vAcc=9377, velN=-3, velE=22, velD=-10, gSpeed=22, headMot=253.38518, sAcc=16, headAcc=30.44452, pDOP=2.82, invalidLlh=0, lastCorrectionAge=0, reserved0=659535132, headVeh=0.0, magDec=0.0, magAcc=0.0)>\n",
      "1\n"
     ]
    }
   ],
   "source": [
    "msg = ubx_reader(verbose=True)\n",
    "print(msg.gnssFixOk)"
   ]
  },
  {
   "cell_type": "code",
   "execution_count": null,
   "id": "5b4ca4e4-c9e3-4af4-b642-c8dfbc6141d6",
   "metadata": {},
   "outputs": [],
   "source": []
  }
 ],
 "metadata": {
  "kernelspec": {
   "display_name": "Python 3 (ipykernel)",
   "language": "python",
   "name": "python3"
  },
  "language_info": {
   "codemirror_mode": {
    "name": "ipython",
    "version": 3
   },
   "file_extension": ".py",
   "mimetype": "text/x-python",
   "name": "python",
   "nbconvert_exporter": "python",
   "pygments_lexer": "ipython3",
   "version": "3.10.14"
  }
 },
 "nbformat": 4,
 "nbformat_minor": 5
}
