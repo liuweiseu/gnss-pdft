{
 "cells": [
  {
   "cell_type": "code",
   "execution_count": 32,
   "id": "bc858485-eb50-49a5-ba1a-91c1977c2865",
   "metadata": {},
   "outputs": [],
   "source": [
    "from serial import Serial\n",
    "from pyubx2 import UBXReader, NMEA_PROTOCOL, UBX_PROTOCOL\n",
    "from pyubx2 import UBXMessage, SET_LAYER_RAM, TXN_NONE, POLL, GET\n",
    "from pyubx2 import POLL_LAYER_RAM"
   ]
  },
  {
   "cell_type": "code",
   "execution_count": 2,
   "id": "fda098c6-60ba-4897-884a-0782bdc5d1f4",
   "metadata": {},
   "outputs": [],
   "source": [
    "usb_port = '/dev/ttyACM0'\n",
    "baud_rate = 38400\n",
    "set_layers = SET_LAYER_RAM\n",
    "poll_layers = POLL_LAYER_RAM\n",
    "transaction = TXN_NONE"
   ]
  },
  {
   "cell_type": "code",
   "execution_count": 3,
   "id": "8ca5afe9-b766-48bb-af44-0623cb4d5a83",
   "metadata": {},
   "outputs": [],
   "source": [
    "def msg_send(msg):\n",
    "    with Serial(usb_port, baud_rate, timeout=3) as stream:\n",
    "        stream.write(msg)\n",
    "        \n",
    "def ubx_set(cfgData, layers=set_layers, transaction=transaction, verbose=False):\n",
    "    msg = UBXMessage.config_set(layers, transaction, cfgData)\n",
    "    if verbose:\n",
    "        print(msg)\n",
    "    else:\n",
    "        msg_send(msg.serialize())\n",
    "\n",
    "def ubx_poll(keys, layers=poll_layers,position=0, verbose=False):\n",
    "    msg = UBXMessage.config_poll(layers, position, keys)\n",
    "    if verbose:\n",
    "        print(msg)\n",
    "    else:\n",
    "        with Serial(usb_port, baud_rate, timeout=3) as stream:\n",
    "            stream.write(msg.serialize())\n",
    "            ubr = UBXReader(stream, protfilter=NMEA_PROTOCOL | UBX_PROTOCOL)\n",
    "            raw_data, parsed_data = ubr.read()\n",
    "            return parsed_data\n",
    "\n",
    "def ubx_reader(id=None, usb_port=usb_port, baud_rate=baud_rate, verbose=False, timeout=10):\n",
    "    with Serial(usb_port, baud_rate, timeout=3) as stream:\n",
    "        t = 0\n",
    "        while True:\n",
    "            t = t + 1\n",
    "            if t > timeout:\n",
    "                return None\n",
    "            ubr = UBXReader(stream, protfilter=NMEA_PROTOCOL | UBX_PROTOCOL)\n",
    "            raw_data, parsed_data = ubr.read()\n",
    "            if parsed_data is not None:\n",
    "                if (id is None or parsed_data.identity == id) and verbose:\n",
    "                    print(parsed_data)\n",
    "                if id is None or parsed_data.identity == id:\n",
    "                    return parsed_data\n",
    "                else:\n",
    "                    continue\n"
   ]
  },
  {
   "cell_type": "code",
   "execution_count": 43,
   "id": "3942b2f7-21d0-4932-822a-05df43bfdbe8",
   "metadata": {},
   "outputs": [],
   "source": [
    "FixTypeList = ['no-fix', 'dead-reckoning-only', '2D-fix', '3D-fix', 'GPS + dead-reckoning', 'Time-only-fix']\n",
    "SvinVldStatusList = ['not valid', 'valid']\n",
    "SvinActiveStatusList = ['stop', 'in-progress']\n",
    "\n",
    "def poll_nav_clk():\n",
    "    msg = UBXMessage(b'\\x01', b'\\x22', POLL)\n",
    "    msg_send(msg.serialize())\n",
    "    msg = ubx_reader(id='NAV-CLOCK', verbose=True)\n",
    "    return msg\n",
    "\n",
    "def get_svin_status():\n",
    "    msg = ubx_reader(id='TIM-SVIN')\n",
    "    return SvinVldStatusList[msg.valid], SvinActiveStatusList[msg.active]\n",
    "\n",
    "def get_fixtype(): \n",
    "    msg = ubx_reader(id='NAV-PVT')\n",
    "    return FixTypeList[msg.fixType]\n",
    "\n",
    "def set_coordinate(lon, lat, alt):\n",
    "    cfgData = [('CFG_TMODE_LON', int(lon*10**7)), ('CFG_TMODE_LON_HP', int(lon*10**9)), \n",
    "            ('CFG_TMODE_LAT', int(lat*10**7)), ('CFG_TMODE_LAT_HP', int(lat*10**9)),\n",
    "            ('CFG-TMODE-HEIGHT', int(alt*100)), ('CFG-TMODE-HEIGHT_HP', int(alt*10**4))]\n",
    "    ubx_set(cfgData)\n",
    "    \n",
    "def set_acc(acc):\n",
    "    cfgData = ['CFG-TMODE-FIXED_POS_ACC', acc*10**4]\n",
    "    ubx_set(cfgData)\n",
    "\n",
    "def set_rtcm():\n",
    "    cfgData = [('CFG_MSGOUT_RTCM_3X_TYPE1005_USB', 1),\n",
    "               ('CFG_MSGOUT_RTCM_3X_TYPE1077_USB', 1),\n",
    "               ('CFG_MSGOUT_RTCM_3X_TYPE1087_USB', 1),\n",
    "               ('CFG_MSGOUT_RTCM_3X_TYPE1097_USB', 1),\n",
    "               ('CFG_MSGOUT_RTCM_3X_TYPE1127_USB', 1),\n",
    "               ('CFG_MSGOUT_RTCM_3X_TYPE1230_USB', 1),\n",
    "               ('CFG_MSGOUT_RTCM_3X_TYPE4072_1_USB', 1)]\n",
    "    ubx_set(cfgData)\n",
    "\n",
    "def get_coordindate():\n",
    "    msg = ubx_reader(id='NAV-PVT')\n",
    "    lon = msg.lon\n",
    "    lat = msg.lat\n",
    "    alt = msg.height\n",
    "    return lon, lat, alt\n",
    "\n",
    "def get_acc():\n",
    "    msg = ubx_reader(id='NAV-PVT')\n",
    "    hacc = msg.hAcc/1000\n",
    "    vacc = msg.vAcc/1000\n",
    "    return hacc, vacc\n",
    "\n",
    "def set_gnss():\n",
    "    cfgData = [ ('CFG_SIGNAL_GPS_ENA', 1), \n",
    "                ('CFG_SIGNAL_SBAS_ENA', 0),\n",
    "                ('CFG_SIGNAL_GAL_ENA', 1),\n",
    "                ('CFG_SIGNAL_BDS_ENA', 1), \n",
    "                ('CFG_SIGNAL_QZSS_ENA', 0), \n",
    "                ('CFG_SIGNAL_GLO_ENA', 0),\n",
    "                ('CFG_SIGNAL_NAVIC_ENA', 0)]\n",
    "    ubx_set(cfgData)\n",
    "    \n",
    "def master_io_msg():\n",
    "    cfgData = [('CFG_USBINPROT_UBX',  1),\n",
    "               ('CFG_USBINPROT_NMEA', 1),\n",
    "               ('CFG_USBOUTPROT_UBX', 0),\n",
    "               ('CFG_USBOUTPROT_NMEA',0),\n",
    "               ('CFG_USBOUTPROT_RTCM',1)]\n",
    "    ubx_set(cfgData)\n",
    "\n",
    "def slave_io_msg():\n",
    "    cfgData = [('CFG_USBINPROT_UBX',  1),\n",
    "               ('CFG_USBINPROT_NMEA', 1),\n",
    "               ('CFG_USBINPROT_RTCM', 1),\n",
    "               ('CFG_USBOUTPROT_UBX', 1),\n",
    "               ('CFG_USBOUTPROT_NMEA',1)]\n",
    "    ubx_set(cfgData)"
   ]
  },
  {
   "cell_type": "code",
   "execution_count": 5,
   "id": "70da0423-acba-4d32-a297-46516a9240c6",
   "metadata": {},
   "outputs": [
    {
     "name": "stdout",
     "output_type": "stream",
     "text": [
      "<UBX(CFG-VALSET, version=0, ram=1, bbr=0, flash=0, action=0, reserved0=0, CFG_USBINPROT_NMEA=1, CFG_USBINPROT_UBX=1)>\n"
     ]
    }
   ],
   "source": [
    "# USB input: NMEA, UBX \n",
    "keys = [(\"CFG_USBINPROT_NMEA\", 1), (\"CFG_USBINPROT_UBX\", 1)]\n",
    "ubx_set(keys, verbose=True)\n",
    "# USB output: UBX\n",
    "keys = [(\"CFG_USBOUTPROT_NMEA\", 0), (\"CFG_USBOUTPROT_UBX\", 1)]\n",
    "ubx_set(keys, verbose=False)\n",
    "\n"
   ]
  },
  {
   "cell_type": "code",
   "execution_count": 6,
   "id": "7660d3f1-6daf-4ad1-89fe-30ebce7204a4",
   "metadata": {},
   "outputs": [
    {
     "name": "stdout",
     "output_type": "stream",
     "text": [
      "<UBX(CFG-VALGET, version=0, layer=0, position=0, keys_01=276299778)>\n"
     ]
    }
   ],
   "source": [
    "keys=[\"CFG_USBOUTPROT_NMEA\"]\n",
    "ubx_poll(keys, verbose=True)"
   ]
  },
  {
   "cell_type": "code",
   "execution_count": 7,
   "id": "fdb33034-b701-42fc-a8a2-80893bb0628c",
   "metadata": {},
   "outputs": [
    {
     "data": {
      "text/plain": [
       "UBXMessage(b'\\x06', b'\\x8b', 0, payload=b'\\x01\\x00\\x00\\x00\\x02\\x00x\\x10\\x00')"
      ]
     },
     "execution_count": 7,
     "metadata": {},
     "output_type": "execute_result"
    }
   ],
   "source": [
    "keys=[\"CFG_USBOUTPROT_NMEA\"]\n",
    "ubx_poll(keys)"
   ]
  },
  {
   "cell_type": "code",
   "execution_count": 8,
   "id": "3b8842d4-0e90-463a-98df-249784217e99",
   "metadata": {},
   "outputs": [],
   "source": [
    "# set the GPS receiver work in survey-in mode\n",
    "# survey-in minimum duration is 1200s\n",
    "# survey-in position accuracy limit 0.1m\n",
    "keys = [(\"CFG_TMODE_MODE\", 1), (\"CFG_TMODE_SVIN_MIN_DUR\", 1200), (\"CFG_TMODE_SVIN_ACC_LIMIT\", 1000)]\n",
    "ubx_set(keys, verbose=False)"
   ]
  },
  {
   "cell_type": "code",
   "execution_count": 9,
   "id": "df86b8b7-eaee-4dfd-84cb-94b1774db495",
   "metadata": {},
   "outputs": [],
   "source": [
    "# enable ubx-pvt message out from usb\n",
    "keys = [(\"CFG_MSGOUT_UBX_NAV_PVT_USB\",1), (\"CFG_MSGOUT_UBX_TIM_SVIN_USB\", 1)]\n",
    "ubx_set(keys)"
   ]
  },
  {
   "cell_type": "code",
   "execution_count": 10,
   "id": "37e60669-706b-4227-8e15-7f87ee2f43e1",
   "metadata": {},
   "outputs": [
    {
     "name": "stdout",
     "output_type": "stream",
     "text": [
      "<UBX(NAV-PVT, iTOW=19:42:13, year=2024, month=6, day=26, hour=19, min=42, second=13, validDate=1, validTime=1, fullyResolved=1, validMag=0, tAcc=22, nano=-254258, fixType=3, gnssFixOk=1, diffSoln=0, psmState=0, headVehValid=0, carrSoln=0, confirmedAvai=1, confirmedDate=1, confirmedTime=1, numSV=25, lon=-122.2570362, lat=37.8728622, height=90641, hMSL=120074, hAcc=526, vAcc=927, velN=-5, velE=0, velD=17, gSpeed=5, headMot=0.0, sAcc=12, headAcc=167.121, pDOP=1.05, invalidLlh=0, lastCorrectionAge=0, reserved0=659535132, headVeh=0.0, magDec=0.0, magAcc=0.0)>\n"
     ]
    }
   ],
   "source": [
    "msg = ubx_reader(verbose=True)\n",
    "#print(msg.gnssFixOk)"
   ]
  },
  {
   "cell_type": "code",
   "execution_count": 11,
   "id": "5b4ca4e4-c9e3-4af4-b642-c8dfbc6141d6",
   "metadata": {},
   "outputs": [
    {
     "name": "stdout",
     "output_type": "stream",
     "text": [
      "<UBX(NAV-PVT, iTOW=19:42:17, year=2024, month=6, day=26, hour=19, min=42, second=17, validDate=1, validTime=1, fullyResolved=1, validMag=0, tAcc=22, nano=-254492, fixType=3, gnssFixOk=1, diffSoln=0, psmState=0, headVehValid=0, carrSoln=0, confirmedAvai=1, confirmedDate=1, confirmedTime=1, numSV=25, lon=-122.2570362, lat=37.872862, height=90572, hMSL=120005, hAcc=519, vAcc=917, velN=-5, velE=0, velD=17, gSpeed=5, headMot=0.0, sAcc=11, headAcc=167.121, pDOP=1.05, invalidLlh=0, lastCorrectionAge=0, reserved0=659535132, headVeh=0.0, magDec=0.0, magAcc=0.0)>\n"
     ]
    }
   ],
   "source": [
    "msg = ubx_reader(verbose=True)"
   ]
  },
  {
   "cell_type": "code",
   "execution_count": 12,
   "id": "8c9c43f8-8255-4084-98ca-614302a2e08e",
   "metadata": {},
   "outputs": [
    {
     "name": "stdout",
     "output_type": "stream",
     "text": [
      "<UBX(TIM-SVIN, dur=12, meanX=-269056854, meanY=-426313288, meanZ=389436981, meanV=1106060, obs=13, valid=0, active=1, reserved1=0)>\n"
     ]
    },
    {
     "data": {
      "text/plain": [
       "UBXMessage(b'\\r', b'\\x04', 0, payload=b'\\x0c\\x00\\x00\\x00\\xaa\\x84\\xf6\\xef\\xb8\\xf9\\x96\\xe65V6\\x17\\x8c\\xe0\\x10\\x00\\r\\x00\\x00\\x00\\x00\\x01\\x00\\x00')"
      ]
     },
     "execution_count": 12,
     "metadata": {},
     "output_type": "execute_result"
    }
   ],
   "source": [
    "ubx_reader(id='TIM-SVIN' ,verbose=True)"
   ]
  },
  {
   "cell_type": "code",
   "execution_count": 13,
   "id": "b631410f-afd3-422f-888a-f5dfe7ef334f",
   "metadata": {},
   "outputs": [],
   "source": [
    "# enable ubx messages\n",
    "keys = [(\"CFG_MSGOUT_UBX_NAV_PVT_USB\", 1), \n",
    "        (\"CFG_MSGOUT_UBX_NAV_SAT_USB\", 1), \n",
    "        (\"CFG_MSGOUT_UBX_NAV_SIG_USB\", 1), \n",
    "        (\"CFG_MSGOUT_UBX_NAV_STATUS_USB\", 1),\n",
    "        (\"CFG_MSGOUT_UBX_RXM_RTCM_USB\", 1)]\n",
    "ubx_set(keys)"
   ]
  },
  {
   "cell_type": "code",
   "execution_count": 14,
   "id": "c5c7ce11-5ca2-4af3-b34b-435bcda0711c",
   "metadata": {},
   "outputs": [
    {
     "name": "stdout",
     "output_type": "stream",
     "text": [
      "<UBX(NAV-PVT, iTOW=19:42:28, year=2024, month=6, day=26, hour=19, min=42, second=28, validDate=1, validTime=1, fullyResolved=1, validMag=0, tAcc=22, nano=-255133, fixType=3, gnssFixOk=1, diffSoln=0, psmState=0, headVehValid=0, carrSoln=0, confirmedAvai=1, confirmedDate=1, confirmedTime=1, numSV=25, lon=-122.257036, lat=37.8728616, height=90419, hMSL=119852, hAcc=514, vAcc=897, velN=-2, velE=1, velD=14, gSpeed=2, headMot=0.0, sAcc=29, headAcc=167.121, pDOP=1.05, invalidLlh=0, lastCorrectionAge=0, reserved0=659535132, headVeh=0.0, magDec=0.0, magAcc=0.0)>\n"
     ]
    },
    {
     "data": {
      "text/plain": [
       "UBXMessage(b'\\x01', b'\\x07', 0, payload=b\"\\xf0\\xee\\xad\\x13\\xe8\\x07\\x06\\x1a\\x13*\\x1c7\\x16\\x00\\x00\\x00c\\x1b\\xfc\\xff\\x03\\x01\\xea\\x19\\x88\\x0e!\\xb7\\xa8\\xf0\\x92\\x163a\\x01\\x00,\\xd4\\x01\\x00\\x02\\x02\\x00\\x00\\x81\\x03\\x00\\x00\\xfe\\xff\\xff\\xff\\x01\\x00\\x00\\x00\\x0e\\x00\\x00\\x00\\x02\\x00\\x00\\x00\\x00\\x00\\x00\\x00\\x1d\\x00\\x00\\x00\\xa4\\x01\\xff\\x00i\\x00\\x00\\x00\\x1c\\xb5O'\\x00\\x00\\x00\\x00\\x00\\x00\\x00\\x00\")"
      ]
     },
     "execution_count": 14,
     "metadata": {},
     "output_type": "execute_result"
    }
   ],
   "source": [
    "ubx_reader(id='NAV-PVT' ,verbose=True)"
   ]
  },
  {
   "cell_type": "code",
   "execution_count": 16,
   "id": "9345f032-c810-4f78-bfd0-9f14e60c88f4",
   "metadata": {},
   "outputs": [
    {
     "data": {
      "text/plain": [
       "'3D-fix'"
      ]
     },
     "execution_count": 16,
     "metadata": {},
     "output_type": "execute_result"
    }
   ],
   "source": [
    "get_fixtype()"
   ]
  },
  {
   "cell_type": "code",
   "execution_count": 29,
   "id": "9fe48d6a-53de-4fcc-92a0-5a993eb7a5f6",
   "metadata": {},
   "outputs": [
    {
     "data": {
      "text/plain": [
       "('not valid', 'in-progress')"
      ]
     },
     "execution_count": 29,
     "metadata": {},
     "output_type": "execute_result"
    }
   ],
   "source": [
    "get_svin_status()"
   ]
  },
  {
   "cell_type": "code",
   "execution_count": 26,
   "id": "5753f4f9-aae5-4f50-8ba9-118ef6ecf81a",
   "metadata": {},
   "outputs": [
    {
     "data": {
      "text/plain": [
       "(-122.2570476, 37.8728563, 91.67)"
      ]
     },
     "execution_count": 26,
     "metadata": {},
     "output_type": "execute_result"
    }
   ],
   "source": [
    "get_coordindate()"
   ]
  },
  {
   "cell_type": "code",
   "execution_count": 28,
   "id": "1ea86daa-c2b2-456b-8e8b-29aef26473c5",
   "metadata": {},
   "outputs": [
    {
     "data": {
      "text/plain": [
       "(0.515, 0.899)"
      ]
     },
     "execution_count": 28,
     "metadata": {},
     "output_type": "execute_result"
    }
   ],
   "source": [
    "get_acc()"
   ]
  },
  {
   "cell_type": "code",
   "execution_count": 20,
   "id": "1f759bcc-4684-4eb8-8403-8ab0b884ee22",
   "metadata": {},
   "outputs": [
    {
     "name": "stdout",
     "output_type": "stream",
     "text": [
      "<UBX(NAV-CLOCK, iTOW=19:42:54, clkB=256643, clkD=58, tAcc=2, fAcc=114)>\n"
     ]
    },
    {
     "data": {
      "text/plain": [
       "UBXMessage(b'\\x01', b'\"', 0, payload=b'\\x80T\\xae\\x13\\x83\\xea\\x03\\x00:\\x00\\x00\\x00\\x02\\x00\\x00\\x00r\\x00\\x00\\x00')"
      ]
     },
     "execution_count": 20,
     "metadata": {},
     "output_type": "execute_result"
    }
   ],
   "source": [
    "poll_nav_clk()"
   ]
  },
  {
   "cell_type": "code",
   "execution_count": 45,
   "id": "6e96f011-0d7c-4adb-85ba-5d056214c9a4",
   "metadata": {},
   "outputs": [
    {
     "name": "stdout",
     "output_type": "stream",
     "text": [
      "<UBX(CFG-VALGET, version=1, layer=0, position=0, CFG_SIGNAL_GPS_ENA=1, CFG_SIGNAL_SBAS_ENA=0, CFG_SIGNAL_GAL_ENA=1, CFG_SIGNAL_BDS_ENA=1, CFG_SIGNAL_QZSS_ENA=0, CFG_SIGNAL_GLO_ENA=0, CFG_SIGNAL_NAVIC_ENA=0)>\n"
     ]
    }
   ],
   "source": [
    "keys = ['CFG_SIGNAL_GPS_ENA', \n",
    "        'CFG_SIGNAL_SBAS_ENA',\n",
    "        'CFG_SIGNAL_GAL_ENA',\n",
    "        'CFG_SIGNAL_BDS_ENA', \n",
    "        'CFG_SIGNAL_QZSS_ENA', \n",
    "        'CFG_SIGNAL_GLO_ENA',\n",
    "        'CFG_SIGNAL_NAVIC_ENA']\n",
    "msg = ubx_poll(keys)\n",
    "print(msg)"
   ]
  },
  {
   "cell_type": "code",
   "execution_count": 44,
   "id": "6dba4bbf-5b65-46fc-a64b-be6795931a80",
   "metadata": {},
   "outputs": [],
   "source": [
    "set_gnss()"
   ]
  },
  {
   "cell_type": "code",
   "execution_count": null,
   "id": "383d4ec9-5c6d-4035-b229-a991ef0dac72",
   "metadata": {},
   "outputs": [],
   "source": []
  }
 ],
 "metadata": {
  "kernelspec": {
   "display_name": "Python 3 (ipykernel)",
   "language": "python",
   "name": "python3"
  },
  "language_info": {
   "codemirror_mode": {
    "name": "ipython",
    "version": 3
   },
   "file_extension": ".py",
   "mimetype": "text/x-python",
   "name": "python",
   "nbconvert_exporter": "python",
   "pygments_lexer": "ipython3",
   "version": "3.10.14"
  }
 },
 "nbformat": 4,
 "nbformat_minor": 5
}
